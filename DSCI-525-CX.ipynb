{
 "cells": [
  {
   "cell_type": "code",
   "execution_count": 1,
   "id": "7518a680-e452-40d9-9cfb-5bdf53a4c6f0",
   "metadata": {},
   "outputs": [],
   "source": [
    "import re\n",
    "import os\n",
    "import glob\n",
    "import zipfile\n",
    "import requests\n",
    "from urllib.request import urlretrieve\n",
    "import json\n",
    "import pandas as pd\n",
    "import time"
   ]
  },
  {
   "cell_type": "code",
   "execution_count": 2,
   "id": "284ffe36-e0c6-40ec-b1d6-4737be7ae37c",
   "metadata": {},
   "outputs": [
    {
     "name": "stdout",
     "output_type": "stream",
     "text": [
      "C:\\Users\\11251\\DSCI-525-Ci-Xu\n"
     ]
    }
   ],
   "source": [
    "%cd /Users/11251/DSCI-525-Ci-Xu\n",
    "## Change it to the location that you want to download your files to."
   ]
  },
  {
   "cell_type": "code",
   "execution_count": 3,
   "id": "f4985cf9-9cfc-49b1-811d-545feff2f7af",
   "metadata": {},
   "outputs": [],
   "source": [
    "# Necessary metadata\n",
    "article_id = 14096681  # this is the unique identifier of the article on figshare\n",
    "url = f\"https://api.figshare.com/v2/articles/{article_id}\"\n",
    "headers = {\"Content-Type\": \"application/json\"}\n",
    "output_directory = \"figshareairline/\""
   ]
  },
  {
   "cell_type": "code",
   "execution_count": 4,
   "id": "453a5f71-a39f-439d-9b75-f8f102574545",
   "metadata": {},
   "outputs": [
    {
     "data": {
      "text/plain": [
       "[{'id': 26579150,\n",
       "  'name': 'daily_rainfall_2014.png',\n",
       "  'size': 58863,\n",
       "  'is_link_only': False,\n",
       "  'download_url': 'https://ndownloader.figshare.com/files/26579150',\n",
       "  'supplied_md5': 'fd32a2ffde300a31f8d63b1825d47e5e',\n",
       "  'computed_md5': 'fd32a2ffde300a31f8d63b1825d47e5e',\n",
       "  'mimetype': 'image/png'},\n",
       " {'id': 26579171,\n",
       "  'name': 'environment.yml',\n",
       "  'size': 192,\n",
       "  'is_link_only': False,\n",
       "  'download_url': 'https://ndownloader.figshare.com/files/26579171',\n",
       "  'supplied_md5': '060b2020017eed93a1ee7dd8c65b2f34',\n",
       "  'computed_md5': '060b2020017eed93a1ee7dd8c65b2f34',\n",
       "  'mimetype': 'text/plain'},\n",
       " {'id': 26586554,\n",
       "  'name': 'README.md',\n",
       "  'size': 5422,\n",
       "  'is_link_only': False,\n",
       "  'download_url': 'https://ndownloader.figshare.com/files/26586554',\n",
       "  'supplied_md5': '61858c6cc0e6a6d6663a7e4c75bbd88c',\n",
       "  'computed_md5': '61858c6cc0e6a6d6663a7e4c75bbd88c',\n",
       "  'mimetype': 'text/x-python'},\n",
       " {'id': 26766812,\n",
       "  'name': 'data.zip',\n",
       "  'size': 814041183,\n",
       "  'is_link_only': False,\n",
       "  'download_url': 'https://ndownloader.figshare.com/files/26766812',\n",
       "  'supplied_md5': 'b517383f76e77bd03755a63a8ff83ee9',\n",
       "  'computed_md5': 'b517383f76e77bd03755a63a8ff83ee9',\n",
       "  'mimetype': 'application/zip'},\n",
       " {'id': 26766815,\n",
       "  'name': 'get_data.py',\n",
       "  'size': 4113,\n",
       "  'is_link_only': False,\n",
       "  'download_url': 'https://ndownloader.figshare.com/files/26766815',\n",
       "  'supplied_md5': '7829028495fd9dec9680ea013474afa6',\n",
       "  'computed_md5': '7829028495fd9dec9680ea013474afa6',\n",
       "  'mimetype': 'text/x-python'}]"
      ]
     },
     "execution_count": 4,
     "metadata": {},
     "output_type": "execute_result"
    }
   ],
   "source": [
    "response = requests.request(\"GET\", url, headers=headers)\n",
    "data = json.loads(response.text)  # this contains all the articles data, feel free to check it out\n",
    "files = data[\"files\"]             # this is just the data about the files, which is what we want\n",
    "files"
   ]
  },
  {
   "cell_type": "code",
   "execution_count": 5,
   "id": "8c9f960b-7adf-4cd9-aeec-492ebe5e4286",
   "metadata": {},
   "outputs": [
    {
     "name": "stdout",
     "output_type": "stream",
     "text": [
      "CPU times: total: 781 ms\n",
      "Wall time: 5min 58s\n"
     ]
    }
   ],
   "source": [
    "%%time\n",
    "files_to_dl = [\"data.zip\"]  # feel free to add other files here\n",
    "for file in files:\n",
    "    if file[\"name\"] in files_to_dl:\n",
    "        os.makedirs(output_directory, exist_ok=True)\n",
    "        urlretrieve(file[\"download_url\"], output_directory + file[\"name\"])"
   ]
  },
  {
   "cell_type": "code",
   "execution_count": 6,
   "id": "1fb51257-ccfc-45e3-9ba5-af3a0321a647",
   "metadata": {},
   "outputs": [
    {
     "name": "stdout",
     "output_type": "stream",
     "text": [
      "CPU times: total: 5.61 s\n",
      "Wall time: 12.3 s\n"
     ]
    }
   ],
   "source": [
    "%%time\n",
    "with zipfile.ZipFile(os.path.join(output_directory, \"data.zip\"), 'r') as f:\n",
    "    f.extractall(output_directory)"
   ]
  },
  {
   "cell_type": "code",
   "execution_count": 7,
   "id": "b754eb80-ec8e-4840-a74e-ee5a69b1966e",
   "metadata": {},
   "outputs": [
    {
     "name": "stdout",
     "output_type": "stream",
     "text": [
      " Volume in drive C is Windows\n",
      " Volume Serial Number is 5CA3-1071\n",
      "\n",
      " Directory of C:\\Users\\11251\\DSCI-525-Ci-Xu\n",
      "\n",
      "\n",
      " Directory of C:\\Users\\11251\\DSCI-525-Ci-Xu\\figshareairline\n",
      "\n",
      "2025/03/30  08:50    <DIR>          .\n",
      "2025/03/30  08:45    <DIR>          ..\n",
      "2025/03/30  08:50    <DIR>          __MACOSX\n",
      "2025/03/30  08:50       127,613,760 ACCESS-CM2_daily_rainfall_NSW.csv\n",
      "2025/03/30  08:50       114,707,410 ACCESS-ESM1-5_daily_rainfall_NSW.csv\n",
      "2025/03/30  08:50        94,960,113 AWI-ESM-1-1-LR_daily_rainfall_NSW.csv\n",
      "2025/03/30  08:50       294,260,911 BCC-CSM2-MR_daily_rainfall_NSW.csv\n",
      "2025/03/30  08:50        55,224,437 BCC-ESM1_daily_rainfall_NSW.csv\n",
      "2025/03/30  08:50        46,286,371 CanESM5_daily_rainfall_NSW.csv\n",
      "2025/03/30  08:50       330,360,682 CMCC-CM2-HR4_daily_rainfall_NSW.csv\n",
      "2025/03/30  08:50       328,787,320 CMCC-CM2-SR5_daily_rainfall_NSW.csv\n",
      "2025/03/30  08:50       328,852,379 CMCC-ESM2_daily_rainfall_NSW.csv\n",
      "2025/03/30  08:50       814,041,183 data.zip\n",
      "2025/03/30  08:50       295,768,615 EC-Earth3-Veg-LR_daily_rainfall_NSW.csv\n",
      "2025/03/30  08:50       232,118,894 FGOALS-f3-L_daily_rainfall_NSW.csv\n",
      "2025/03/30  08:50       116,179,272 FGOALS-g3_daily_rainfall_NSW.csv\n",
      "2025/03/30  08:50       235,661,418 GFDL-CM4_daily_rainfall_NSW.csv\n",
      "2025/03/30  08:50       124,586,961 GFDL-ESM4_daily_rainfall_NSW.csv\n",
      "2025/03/30  08:50       102,517,965 INM-CM4-8_daily_rainfall_NSW.csv\n",
      "2025/03/30  08:50       102,692,289 INM-CM5-0_daily_rainfall_NSW.csv\n",
      "2025/03/30  08:50        93,829,697 KIOST-ESM_daily_rainfall_NSW.csv\n",
      "2025/03/30  08:50       206,822,938 MIROC6_daily_rainfall_NSW.csv\n",
      "2025/03/30  08:50        95,376,895 MPI-ESM-1-2-HAM_daily_rainfall_NSW.csv\n",
      "2025/03/30  08:50       515,458,033 MPI-ESM1-2-HR_daily_rainfall_NSW.csv\n",
      "2025/03/30  08:50        95,640,682 MPI-ESM1-2-LR_daily_rainfall_NSW.csv\n",
      "2025/03/30  08:50       254,009,247 MRI-ESM2-0_daily_rainfall_NSW.csv\n",
      "2025/03/30  08:50        67,784,105 NESM3_daily_rainfall_NSW.csv\n",
      "2025/03/30  08:50        82,474,546 NorESM2-LM_daily_rainfall_NSW.csv\n",
      "2025/03/30  08:50       337,555,851 NorESM2-MM_daily_rainfall_NSW.csv\n",
      "2025/03/30  08:50           952,202 observed_daily_rainfall_SYD.csv\n",
      "2025/03/30  08:50       333,489,879 SAM0-UNICON_daily_rainfall_NSW.csv\n",
      "2025/03/30  08:50       332,813,281 TaiESM1_daily_rainfall_NSW.csv\n",
      "              29 File(s)  6,160,827,336 bytes\n",
      "               3 Dir(s)  35,001,921,536 bytes free\n"
     ]
    },
    {
     "name": "stderr",
     "output_type": "stream",
     "text": [
      "File Not Found\n"
     ]
    }
   ],
   "source": [
    "%ls -ltr figshareairline"
   ]
  },
  {
   "cell_type": "code",
   "execution_count": 8,
   "id": "e2749f44-b108-4777-a0ff-65a0c6d11b8d",
   "metadata": {},
   "outputs": [
    {
     "name": "stdout",
     "output_type": "stream",
     "text": [
      "Data successfully combined in 309.12 seconds.\n"
     ]
    }
   ],
   "source": [
    "# Start timing\n",
    "start_time = time.time()\n",
    "\n",
    "# Path to the folder containing all model CSV files\n",
    "data_folder = \"figshareairline\"\n",
    "\n",
    "# Get a list of all CSV files in the folder\n",
    "all_files = glob.glob(os.path.join(data_folder, \"*.csv\"))\n",
    "\n",
    "# Exclude the observed data file\n",
    "csv_files = [f for f in all_files if \"observed_daily_rainfall_SYD.csv\" not in f]\n",
    "\n",
    "# List to store individual dataframes\n",
    "df_list = []\n",
    "\n",
    "# Columns to read from each file\n",
    "use_cols = [\"time\", \"lat_min\", \"lat_max\", \"lon_min\", \"lon_max\", \"rain (mm/day)\"]\n",
    "\n",
    "# Loop through each model file\n",
    "for file in csv_files:\n",
    "    # Extract the model name from the filename (text before the first underscore)\n",
    "    match = re.search(r\"/([^_/]+)\", file.replace(\"\\\\\", \"/\"))\n",
    "    model_name = match.group(1) if match else \"Unknown\"\n",
    "\n",
    "    try:\n",
    "        # Read only selected columns\n",
    "        df = pd.read_csv(file, usecols=use_cols)\n",
    "\n",
    "        # Add the model name as a new column\n",
    "        df[\"model\"] = model_name\n",
    "\n",
    "        # Append to the list\n",
    "        df_list.append(df)\n",
    "\n",
    "    except Exception as e:\n",
    "        print(f\"Error reading file {file}: {e}\")\n",
    "\n",
    "# Concatenate all dataframes into one\n",
    "combined_df = pd.concat(df_list, ignore_index=True)\n",
    "\n",
    "# Save the combined data to a CSV\n",
    "combined_df.to_csv(\"combined_rainfall_models.csv\", index=False)\n",
    "\n",
    "# Print how long it took\n",
    "end_time = time.time()\n",
    "print(f\"Data successfully combined in {end_time - start_time:.2f} seconds.\")"
   ]
  },
  {
   "cell_type": "code",
   "execution_count": 9,
   "id": "5ce661a0-438f-4c04-86bf-fca684c4f2e0",
   "metadata": {},
   "outputs": [
    {
     "name": "stdout",
     "output_type": "stream",
     "text": [
      "time              object\n",
      "lat_min          float64\n",
      "lat_max          float64\n",
      "lon_min          float64\n",
      "lon_max          float64\n",
      "rain (mm/day)    float64\n",
      "model             object\n",
      "dtype: object\n",
      "(3541230, 7)\n",
      "                  time    lat_min   lat_max  lon_min  lon_max  rain (mm/day)  \\\n",
      "0  1889-01-01 12:00:00 -35.811518 -34.86911  140.625  141.875   5.727971e-17   \n",
      "1  1889-01-02 12:00:00 -35.811518 -34.86911  140.625  141.875  -4.460195e-18   \n",
      "2  1889-01-03 12:00:00 -35.811518 -34.86911  140.625  141.875   0.000000e+00   \n",
      "3  1889-01-04 12:00:00 -35.811518 -34.86911  140.625  141.875   0.000000e+00   \n",
      "4  1889-01-05 12:00:00 -35.811518 -34.86911  140.625  141.875   2.592095e-02   \n",
      "\n",
      "     model  \n",
      "0  TaiESM1  \n",
      "1  TaiESM1  \n",
      "2  TaiESM1  \n",
      "3  TaiESM1  \n",
      "4  TaiESM1  \n",
      "time             0\n",
      "lat_min          0\n",
      "lat_max          0\n",
      "lon_min          0\n",
      "lon_max          0\n",
      "rain (mm/day)    0\n",
      "model            0\n",
      "dtype: int64\n"
     ]
    }
   ],
   "source": [
    "print(df.dtypes)\n",
    "print(df.shape)\n",
    "print(df.head())\n",
    "print(df.isnull().sum())"
   ]
  },
  {
   "cell_type": "code",
   "execution_count": 10,
   "id": "5b4a6994-d7c1-4d9f-9241-d01d0ac1aaf6",
   "metadata": {},
   "outputs": [
    {
     "name": "stdout",
     "output_type": "stream",
     "text": [
      "Shape: (62467843, 7)\n",
      "Memory usage (MB): 6047.79\n",
      "model\n",
      "MPI-ESM1-2-HR       5154240\n",
      "TaiESM1             3541230\n",
      "NorESM2-MM          3541230\n",
      "CMCC-CM2-HR4        3541230\n",
      "CMCC-CM2-SR5        3541230\n",
      "CMCC-ESM2           3541230\n",
      "SAM0-UNICON         3541153\n",
      "FGOALS-f3-L         3219300\n",
      "GFDL-CM4            3219300\n",
      "GFDL-ESM4           3219300\n",
      "EC-Earth3-Veg-LR    3037320\n",
      "MRI-ESM2-0          3037320\n",
      "BCC-CSM2-MR         3035340\n",
      "MIROC6              2070900\n",
      "ACCESS-CM2          1932840\n",
      "ACCESS-ESM1-5       1610700\n",
      "INM-CM5-0           1609650\n",
      "INM-CM4-8           1609650\n",
      "KIOST-ESM           1287720\n",
      "FGOALS-g3           1287720\n",
      "MPI-ESM1-2-LR        966420\n",
      "NESM3                966420\n",
      "AWI-ESM-1-1-LR       966420\n",
      "MPI-ESM-1-2-HAM      966420\n",
      "NorESM2-LM           919800\n",
      "BCC-ESM1             551880\n",
      "CanESM5              551880\n",
      "Name: count, dtype: int64\n",
      "count    5.924854e+07\n",
      "mean     1.901175e+00\n",
      "std      5.585735e+00\n",
      "min     -3.807373e-12\n",
      "25%      3.838413e-06\n",
      "50%      6.154947e-02\n",
      "75%      1.020918e+00\n",
      "max      4.329395e+02\n",
      "Name: rain (mm/day), dtype: float64\n",
      "EDA completed in 109.49 seconds.\n"
     ]
    }
   ],
   "source": [
    "start = time.time()\n",
    "\n",
    "dtypes = {\n",
    "    \"lat_min\": \"float32\",\n",
    "    \"lat_max\": \"float32\",\n",
    "    \"lon_min\": \"float32\",\n",
    "    \"lon_max\": \"float32\",\n",
    "    \"rain (mm/day)\": \"float32\",\n",
    "    \"model\": \"category\"\n",
    "}\n",
    "\n",
    "df = pd.read_csv(\"combined_rainfall_models.csv\", dtype=dtypes, parse_dates=[\"time\"])\n",
    "\n",
    "print(f\"Shape: {df.shape}\")\n",
    "print(f\"Memory usage (MB): {df.memory_usage(deep=True).sum() / 1_000_000:.2f}\")\n",
    "\n",
    "print(df[\"model\"].value_counts())\n",
    "print(df[\"rain (mm/day)\"].describe())\n",
    "\n",
    "end = time.time()\n",
    "print(f\"EDA completed in {end - start:.2f} seconds.\")\n",
    "\n",
    "df.to_parquet(\"combined_rainfall_models.parquet\")"
   ]
  }
 ],
 "metadata": {
  "kernelspec": {
   "display_name": "Python [conda env:525_2025]",
   "language": "python",
   "name": "conda-env-525_2025-py"
  },
  "language_info": {
   "codemirror_mode": {
    "name": "ipython",
    "version": 3
   },
   "file_extension": ".py",
   "mimetype": "text/x-python",
   "name": "python",
   "nbconvert_exporter": "python",
   "pygments_lexer": "ipython3",
   "version": "3.11.11"
  }
 },
 "nbformat": 4,
 "nbformat_minor": 5
}
